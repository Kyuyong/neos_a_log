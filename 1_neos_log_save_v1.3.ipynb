{
 "cells": [
  {
   "cell_type": "markdown",
   "metadata": {},
   "source": [
    "# NeOS-A Log 분석\n",
    "- neos_db query 직접추출한 자료로 작업"
   ]
  },
  {
   "cell_type": "code",
   "execution_count": 1,
   "metadata": {},
   "outputs": [],
   "source": [
    "import pandas as pd\n",
    "import numpy as np\n",
    "import matplotlib.pyplot as plt\n",
    "from pandas import DataFrame as df\n",
    "from pandas import json_normalize\n",
    "from matplotlib import font_manager, rc\n",
    "import os\n",
    "import glob  \n",
    "import sys\n",
    "from tqdm.notebook import tqdm\n",
    "from datetime import datetime\n",
    "now = datetime.now().strftime('%Y-%m-%d')"
   ]
  },
  {
   "cell_type": "markdown",
   "metadata": {},
   "source": [
    "# neos_db 추가 추출된 자료 업로드"
   ]
  },
  {
   "cell_type": "code",
   "execution_count": 2,
   "metadata": {},
   "outputs": [],
   "source": [
    "df_start = pd.read_csv('./neos_nugu_db/nugu_20210307.txt', delimiter = '\\t',names=['date','UserID','LogType','SceneId','Log'])\n",
    "log_data = df_start['Log'].reset_index(drop=True)"
   ]
  },
  {
   "cell_type": "markdown",
   "metadata": {},
   "source": [
    "# ★ json 구조를 데이터 프레임으로 저장\n",
    "- 엄청 오래걸리는 작업 : 주의(★★★★★)"
   ]
  },
  {
   "cell_type": "code",
   "execution_count": 3,
   "metadata": {},
   "outputs": [],
   "source": [
    "df_start = df_start[df_start['Log'].notnull()]"
   ]
  },
  {
   "cell_type": "code",
   "execution_count": 4,
   "metadata": {},
   "outputs": [
    {
     "data": {
      "application/vnd.jupyter.widget-view+json": {
       "model_id": "8ac22f9eaa0a44cca503a6e333bf1b85",
       "version_major": 2,
       "version_minor": 0
      },
      "text/plain": [
       "HBox(children=(FloatProgress(value=0.0, max=13422.0), HTML(value='')))"
      ]
     },
     "metadata": {},
     "output_type": "display_data"
    },
    {
     "name": "stdout",
     "output_type": "stream",
     "text": [
      "\n"
     ]
    }
   ],
   "source": [
    "df1 = df()\n",
    "for i in tqdm(range(len(log_data))):\n",
    "    log_data[i] = log_data[i].replace('true','\"true\"')\n",
    "    log_data[i] = log_data[i].replace('false','\"false\"')\n",
    "    df1=df1.append(json_normalize(eval(log_data[i])), ignore_index=True)"
   ]
  },
  {
   "cell_type": "code",
   "execution_count": 5,
   "metadata": {},
   "outputs": [],
   "source": [
    "df_start.reset_index(drop=True, inplace = True)\n",
    "df3 = pd.concat([df_start,df1], axis=1)"
   ]
  },
  {
   "cell_type": "markdown",
   "metadata": {},
   "source": [
    "# 기존 추출 작업한 엑셀 데이터 업로드"
   ]
  },
  {
   "cell_type": "code",
   "execution_count": 6,
   "metadata": {},
   "outputs": [],
   "source": [
    "# df_past = pd.read_excel('./neos_nugu_db/neos_nugu_db_excel/neos_nugu_가공자료_20201221.xlsx', encoding = 'euc-kr')\n",
    "\n",
    "# df_past.drop(columns=['Unnamed: 0'], inplace = True)\n",
    "\n",
    "# df4 = pd.concat([df_past,df3]).reset_index().drop(columns = ['index'] )\n",
    "\n",
    "# df4.head()"
   ]
  },
  {
   "cell_type": "markdown",
   "metadata": {},
   "source": [
    "# 중간 엑셀저장"
   ]
  },
  {
   "cell_type": "code",
   "execution_count": 7,
   "metadata": {},
   "outputs": [],
   "source": [
    "# df4.to_excel('./neos_nugu_db/neos_nugu_db_excel/neos_nugu_가공자료_'+now+'.xlsx', encoding='euc-kr')"
   ]
  },
  {
   "cell_type": "code",
   "execution_count": 8,
   "metadata": {},
   "outputs": [],
   "source": [
    "df3.to_excel('./neos_nugu_db/neos_nugu_db_excel/neos_nugu_가공자료_'+now+'.xlsx', encoding='euc-kr')"
   ]
  },
  {
   "cell_type": "markdown",
   "metadata": {},
   "source": [
    "# Action name 기반으로 Funciton 생성"
   ]
  },
  {
   "cell_type": "code",
   "execution_count": 9,
   "metadata": {},
   "outputs": [],
   "source": [
    "# df5 = df4.fillna('')\n",
    "df5 = df3.fillna('')"
   ]
  },
  {
   "cell_type": "code",
   "execution_count": 10,
   "metadata": {},
   "outputs": [],
   "source": [
    "##필드값 합치기 \n",
    "df6 = df5.filter(regex='type$', axis = 1)\n",
    "df5['RequestType'] = df6.apply('/'.join, axis=1)"
   ]
  },
  {
   "cell_type": "code",
   "execution_count": 11,
   "metadata": {},
   "outputs": [],
   "source": [
    "## 합친 필드값에서 '/' 쓸데없는 값 없애기\n",
    "df5['RequestType'] = df5['RequestType'].str.replace(pat=r'[/]', repl= r' ', regex=True)\n",
    "df5['RequestType'] = df5['RequestType'].str.replace(pat=r'\\s+', repl= r' ', regex=True) \n",
    "\n",
    "df5['RequestType']=df5['RequestType'].str.strip()\n"
   ]
  },
  {
   "cell_type": "code",
   "execution_count": 17,
   "metadata": {},
   "outputs": [],
   "source": [
    "conditionlist = [\n",
    "    (df5['action.actionName'] == \"01open_door\"),\n",
    "    (df5['action.actionName'] == '02register_work'),\n",
    "    (df5['action.actionName'] == '03ask_visitor'),\n",
    "    (df5['action.actionName'] == '04ask_accessinfo'),    \n",
    "    (df5['action.actionName'] == '05menu_workhistory'),\n",
    "    (df5['action.actionName'] == '06navigation'),\n",
    "    (df5['action.actionName'] == '07change_station'),\n",
    "    (df5['action.actionName'] == '08go'),\n",
    "    (df5['action.actionName'] == '09common_nogo_popupclose'),\n",
    "    (df5['action.actionName'] == '11common_searchresult_number'),\n",
    "    (df5['action.actionName'] == '13ask_guide'),\n",
    "    (df5['action.actionName'] == '12ask_who') & ((df5['RequestType']).str.contains ('WORKER')),\n",
    "    (df5['action.actionName'] == '12ask_who') & ((df5['RequestType']).str.contains ('VACATIONER')),\n",
    "    (df5['action.actionName'] == '10askinfo') & ((df5['RequestType']).str.contains ('WORKLIST')),\n",
    "    (df5['action.actionName'] == '10askinfo') & ((df5['RequestType']).str.contains ('MYWORK')),\n",
    "    (df5['action.actionName'] == '10askinfo') & ((df5['RequestType']).str.contains ('NOTICE')),\n",
    "    (df5['action.actionName'] == '10askinfo') & ((df5['RequestType']).str.contains ('SCHEDULER')),\n",
    "    (df5['action.actionName'] == '10askinfo') & ((df5['RequestType']).str.contains ('TROUBLE')),\n",
    "    (df5['action.actionName'] == '10askinfo') & ((df5['RequestType']).str.contains ('WORKHISTORY')),\n",
    "    (df5['action.actionName'] == '10askinfo') & ((df5['RequestType']).str.contains ('ACCESSHISTORY')),\n",
    "    (df5['action.actionName'] == '10askinfo') & ((df5['RequestType']).str.contains ('ALARMHISTORY')),\n",
    "    (df5['action.actionName'] == '10askinfo') & ((df5['RequestType']).str.contains ('HISTORYINFO')),\n",
    "    (df5['action.actionName'] == '10askinfo') & ((df5['RequestType']).str.contains ('WORKLOG')),\n",
    "    (df5['action.actionName'] == '10askinfo') & ((df5['RequestType']).str.contains ('VISITOR')),\n",
    "    (df5['action.actionName'] == '10askinfo') & ((df5['RequestType']).str.contains ('ACCESSINFO')),\n",
    "    (df5['action.actionName'] == '10askinfo') & ((df5['RequestType']).str.contains ('NEARSTATION')),\n",
    "    (df5['action.actionName'] == '10askinfo') & ((df5['RequestType']).str.contains ('NEARWORKLIST')),\n",
    "    (df5['action.actionName'] == '10askinfo') & ((df5['RequestType']).str.contains ('NEARRU')),\n",
    "    (df5['action.actionName'] == '10askinfo') & ((df5['RequestType']).str.contains ('BID_LOC_COUNTY')& ((df5['RequestType']).str.contains ('REPEATER'))),\n",
    "    (df5['action.actionName'] == '10askinfo') & ((df5['RequestType']).str.contains ('BID_LOC_COUNTY')),\n",
    "    (df5['action.actionName'] == '10askinfo') & ((df5['RequestType']).str.contains ('BID_LOC_CITY')& ((df5['RequestType']).str.contains ('REPEATER'))),\n",
    "    (df5['action.actionName'] == '10askinfo') & ((df5['RequestType']).str.contains ('BID_LOC_CITY')),\n",
    "    (df5['action.actionName'] == '10askinfo') & ((df5['RequestType']).str.contains ('WORKTIME')),\n",
    "    (df5['action.actionName'] == '10askinfo') & ((df5['RequestType']).str.contains ('WORKER')),\n",
    "    (df5['action.actionName'] == '10askinfo') & ((df5['RequestType']).str.contains ('VACATIONER')),\n",
    "    (df5['action.actionName'] == '10askinfo') & ((df5['RequestType']).str.contains ('GUIDE')),\n",
    "    (df5['action.actionName'] == '10common_askinfo') & ((df5['RequestType']).str.contains ('WORKLIST')),\n",
    "    (df5['action.actionName'] == '10common_askinfo') & ((df5['RequestType']).str.contains ('MYWORK')),\n",
    "    (df5['action.actionName'] == '10common_askinfo') & ((df5['RequestType']).str.contains ('NOTICE')),\n",
    "    (df5['action.actionName'] == '10common_askinfo') & ((df5['RequestType']).str.contains ('SCHEDULER')),\n",
    "    (df5['action.actionName'] == '10common_askinfo') & ((df5['RequestType']).str.contains ('TROUBLE')),\n",
    "    (df5['action.actionName'] == '10common_askinfo') & ((df5['RequestType']).str.contains ('WORKHISTORY')),\n",
    "    (df5['action.actionName'] == '10common_askinfo') & ((df5['RequestType']).str.contains ('ACCESSHISTORY')),\n",
    "    (df5['action.actionName'] == '10common_askinfo') & ((df5['RequestType']).str.contains ('ALARMHISTORY')),\n",
    "    (df5['action.actionName'] == '10common_askinfo') & ((df5['RequestType']).str.contains ('HISTORYINFO')),\n",
    "    (df5['action.actionName'] == '10common_askinfo') & ((df5['RequestType']).str.contains ('WORKLOG')),\n",
    "    (df5['action.actionName'] == '10common_askinfo') & ((df5['RequestType']).str.contains ('VISITOR')),\n",
    "    (df5['action.actionName'] == '10common_askinfo') & ((df5['RequestType']).str.contains ('ACCESSINFO')),\n",
    "    (df5['action.actionName'] == '10common_askinfo') & ((df5['RequestType']).str.contains ('NEARSTATION')),\n",
    "    (df5['action.actionName'] == '10common_askinfo') & ((df5['RequestType']).str.contains ('NEARWORKLIST')),\n",
    "    (df5['action.actionName'] == '10common_askinfo') & ((df5['RequestType']).str.contains ('NEARRU')),\n",
    "    (df5['action.actionName'] == '10common_askinfo') & ((df5['RequestType']).str.contains ('BID_LOC_COUNTY')& ((df5['RequestType']).str.contains ('REPEATER'))),\n",
    "    (df5['action.actionName'] == '10common_askinfo') & ((df5['RequestType']).str.contains ('BID_LOC_COUNTY')),\n",
    "    (df5['action.actionName'] == '10common_askinfo') & ((df5['RequestType']).str.contains ('BID_LOC_CITY')& ((df5['RequestType']).str.contains ('REPEATER'))),\n",
    "    (df5['action.actionName'] == '10common_askinfo') & ((df5['RequestType']).str.contains ('BID_LOC_CITY')),\n",
    "    (df5['action.actionName'] == '10common_askinfo') & ((df5['RequestType']).str.contains ('WORKTIME')),\n",
    "    (df5['action.actionName'] == '10common_askinfo') & ((df5['RequestType']).str.contains ('WORKER')),\n",
    "    (df5['action.actionName'] == '10common_askinfo') & ((df5['RequestType']).str.contains ('VACATIONER')),\n",
    "    (df5['action.actionName'] == '10common_askinfo') & ((df5['RequestType']).str.contains ('GUIDE')),\n",
    "    (df5['action.actionName'] == '14small_event'),\n",
    "    (df5['action.actionName'] == '16ask_stationinfo'),\n",
    "    (df5['action.actionName'] == '10common_askinfo') & ((df5['RequestType']).str.contains ('STATIONINFO')),\n",
    "    (df5['action.actionName'] == '10common_askinfo') & ((df5['RequestType']).str.contains ('LIVEALARM'))\n",
    "]\n",
    "choicelist = ['출입문제어', '작업등록', '출입이력 조회', '출입정보 조회', '업무일지 작성', '국소 길안내', '출동국소 변경', '출동/선택', '확인/닫기','국소검색결과 선택', '도움말', \n",
    "              '근무자 조회', '휴가자 조회','오늘의업무 조회', '계획업무 조회', '알리미 조회', '스케쥴러 조회', 'OOS 조회', '작업이력 조회', '출입이력 조회', '알람이력 조회', \n",
    "              '이력정보 조회', '작업일지 조회', '출입이력 조회', '출입정보 조회', '주변기지국 조회', '주변업무 조회', '주변중계기 조회', '중계기검색', '기지국검색','중계기검색(미지원)', '기지국검색(미지원)', '근무시간 조회', '근무자 조회', '휴가자 조회', '도움말',\n",
    "              '오늘의업무 조회', '계획업무 조회', '알리미 조회', '스케쥴러 조회', 'OOS 조회', '작업이력 조회', '출입이력 조회', '알람이력 조회', \n",
    "              '이력정보 조회', '작업일지 조회', '출입이력 조회', '출입정보 조회', '주변기지국 조회', '주변업무 조회', '주변중계기 조회', '중계기검색', '기지국검색','중계기검색(미지원)', '기지국검색(미지원)', '근무시간 조회', '근무자 조회', '휴가자 조회', '도움말','이벤트',\n",
    "             '환경정보','환경정보','실시간 알람']\n"
   ]
  },
  {
   "cell_type": "code",
   "execution_count": 18,
   "metadata": {},
   "outputs": [],
   "source": [
    "df5['Function'] = np.select(conditionlist, choicelist, default='Unknown')"
   ]
  },
  {
   "cell_type": "code",
   "execution_count": 21,
   "metadata": {},
   "outputs": [],
   "source": [
    "df_fin=df5[['date','UserID','SceneId','action.actionName',\n",
    "            'RequestType','Function',#'event.text',\n",
    "            'context.supportedInterfaces.Extension.data.SetData.EquipCode',\n",
    "     'context.supportedInterfaces.Extension.data.SetData.LocalName','context.supportedInterfaces.Extension.data.SetData.MyLatitd',\n",
    "    'context.supportedInterfaces.Extension.data.SetData.MyLongitd','context.supportedInterfaces.Extension.data.SetStationId']]"
   ]
  },
  {
   "cell_type": "markdown",
   "metadata": {},
   "source": [
    "# 1차 가공자료 엑셀 백업"
   ]
  },
  {
   "cell_type": "code",
   "execution_count": 22,
   "metadata": {},
   "outputs": [],
   "source": [
    "df_fin.to_excel('./neos_nugu_db/neos_nugu_db_excel/1차 가공/neos_nugu_1차_가종자료'+now+'.xlsx', encoding='euc-kr')"
   ]
  },
  {
   "cell_type": "markdown",
   "metadata": {},
   "source": [
    "# 보고서 자료 추출"
   ]
  },
  {
   "cell_type": "markdown",
   "metadata": {},
   "source": [
    "# excel merge한거 다시 불러오기 "
   ]
  },
  {
   "cell_type": "code",
   "execution_count": 23,
   "metadata": {},
   "outputs": [],
   "source": [
    "df_fin = pd.read_excel('./neos_nugu_db/neos_nugu_db_excel/1차 가공/neos_nugu_1차_가종자료_merge.xlsx', encoding= 'euc-kr')"
   ]
  },
  {
   "cell_type": "code",
   "execution_count": 24,
   "metadata": {},
   "outputs": [],
   "source": [
    "df_fin.drop(columns=['Unnamed: 0'], inplace = True)"
   ]
  },
  {
   "cell_type": "code",
   "execution_count": 48,
   "metadata": {},
   "outputs": [],
   "source": [
    "user_info = pd.read_excel('./neos_nugu_db/neos_대상구분.xlsx', encoding = 'euc-kr')\n",
    "user_info_2021 = pd.read_excel('./neos_nugu_db/neos_대상구분_202101.xlsx', encoding = 'euc-kr')\n",
    "\n",
    "weekly_df = pd.read_excel('./휴일_주차구분.xlsx', encoding = 'euc-kr')\n",
    "df_opti = df_fin[['date', 'UserID', 'SceneId', 'action.actionName', 'RequestType', 'Function','event.text']]\n",
    "df_opti['date_day'] = df_opti['date'].astype('str').apply(lambda x : x[:10])"
   ]
  },
  {
   "cell_type": "code",
   "execution_count": 49,
   "metadata": {},
   "outputs": [],
   "source": [
    "df_opti['date_year'] = df_opti['date'].astype('str').apply(lambda x : x[:4])"
   ]
  },
  {
   "cell_type": "code",
   "execution_count": 50,
   "metadata": {
    "scrolled": true
   },
   "outputs": [
    {
     "data": {
      "text/html": [
       "<div>\n",
       "<style scoped>\n",
       "    .dataframe tbody tr th:only-of-type {\n",
       "        vertical-align: middle;\n",
       "    }\n",
       "\n",
       "    .dataframe tbody tr th {\n",
       "        vertical-align: top;\n",
       "    }\n",
       "\n",
       "    .dataframe thead th {\n",
       "        text-align: right;\n",
       "    }\n",
       "</style>\n",
       "<table border=\"1\" class=\"dataframe\">\n",
       "  <thead>\n",
       "    <tr style=\"text-align: right;\">\n",
       "      <th></th>\n",
       "      <th>date</th>\n",
       "      <th>UserID</th>\n",
       "      <th>SceneId</th>\n",
       "      <th>action.actionName</th>\n",
       "      <th>RequestType</th>\n",
       "      <th>Function</th>\n",
       "      <th>event.text</th>\n",
       "      <th>date_day</th>\n",
       "      <th>date_year</th>\n",
       "    </tr>\n",
       "  </thead>\n",
       "  <tbody>\n",
       "    <tr>\n",
       "      <th>0</th>\n",
       "      <td>2020-10-04 10:48:14.133</td>\n",
       "      <td>N1101208</td>\n",
       "      <td>DEFAULT</td>\n",
       "      <td>10askinfo</td>\n",
       "      <td>WORKTIME app.neos.android</td>\n",
       "      <td>근무시간 조회</td>\n",
       "      <td>NaN</td>\n",
       "      <td>2020-10-04</td>\n",
       "      <td>2020</td>\n",
       "    </tr>\n",
       "    <tr>\n",
       "      <th>1</th>\n",
       "      <td>2020-10-05 07:27:40.333</td>\n",
       "      <td>N1101208</td>\n",
       "      <td>DEFAULT</td>\n",
       "      <td>10askinfo</td>\n",
       "      <td>app.neos.android TROUBLE</td>\n",
       "      <td>OOS 조회</td>\n",
       "      <td>NaN</td>\n",
       "      <td>2020-10-05</td>\n",
       "      <td>2020</td>\n",
       "    </tr>\n",
       "    <tr>\n",
       "      <th>2</th>\n",
       "      <td>2020-10-05 08:55:38.160</td>\n",
       "      <td>N1103225</td>\n",
       "      <td>DEFAULT</td>\n",
       "      <td>10askinfo</td>\n",
       "      <td>app.neos.android BID_LOC_COUNTY</td>\n",
       "      <td>기지국검색</td>\n",
       "      <td>NaN</td>\n",
       "      <td>2020-10-05</td>\n",
       "      <td>2020</td>\n",
       "    </tr>\n",
       "    <tr>\n",
       "      <th>3</th>\n",
       "      <td>2020-10-05 08:55:48.493</td>\n",
       "      <td>N1103225</td>\n",
       "      <td>DEFAULT</td>\n",
       "      <td>10askinfo</td>\n",
       "      <td>app.neos.android BID_LOC_COUNTY</td>\n",
       "      <td>기지국검색</td>\n",
       "      <td>NaN</td>\n",
       "      <td>2020-10-05</td>\n",
       "      <td>2020</td>\n",
       "    </tr>\n",
       "    <tr>\n",
       "      <th>4</th>\n",
       "      <td>2020-10-05 08:56:24.027</td>\n",
       "      <td>N1103225</td>\n",
       "      <td>DEFAULT</td>\n",
       "      <td>10askinfo</td>\n",
       "      <td>app.neos.android</td>\n",
       "      <td>Unknown</td>\n",
       "      <td>NaN</td>\n",
       "      <td>2020-10-05</td>\n",
       "      <td>2020</td>\n",
       "    </tr>\n",
       "  </tbody>\n",
       "</table>\n",
       "</div>"
      ],
      "text/plain": [
       "                      date    UserID  SceneId action.actionName  \\\n",
       "0  2020-10-04 10:48:14.133  N1101208  DEFAULT         10askinfo   \n",
       "1  2020-10-05 07:27:40.333  N1101208  DEFAULT         10askinfo   \n",
       "2  2020-10-05 08:55:38.160  N1103225  DEFAULT         10askinfo   \n",
       "3  2020-10-05 08:55:48.493  N1103225  DEFAULT         10askinfo   \n",
       "4  2020-10-05 08:56:24.027  N1103225  DEFAULT         10askinfo   \n",
       "\n",
       "                       RequestType Function event.text    date_day date_year  \n",
       "0        WORKTIME app.neos.android  근무시간 조회        NaN  2020-10-04      2020  \n",
       "1         app.neos.android TROUBLE   OOS 조회        NaN  2020-10-05      2020  \n",
       "2  app.neos.android BID_LOC_COUNTY    기지국검색        NaN  2020-10-05      2020  \n",
       "3  app.neos.android BID_LOC_COUNTY    기지국검색        NaN  2020-10-05      2020  \n",
       "4                 app.neos.android  Unknown        NaN  2020-10-05      2020  "
      ]
     },
     "execution_count": 50,
     "metadata": {},
     "output_type": "execute_result"
    }
   ],
   "source": [
    "df_opti.head()"
   ]
  },
  {
   "cell_type": "code",
   "execution_count": 51,
   "metadata": {},
   "outputs": [],
   "source": [
    "df_opti_2020 = df_opti[df_opti['date_year']=='2020']"
   ]
  },
  {
   "cell_type": "code",
   "execution_count": 52,
   "metadata": {},
   "outputs": [],
   "source": [
    "df_opti_2021 = df_opti[df_opti['date_year']=='2021']"
   ]
  },
  {
   "cell_type": "code",
   "execution_count": 53,
   "metadata": {},
   "outputs": [
    {
     "data": {
      "text/plain": [
       "(37927, 9)"
      ]
     },
     "execution_count": 53,
     "metadata": {},
     "output_type": "execute_result"
    }
   ],
   "source": [
    "df_opti_2021.shape"
   ]
  },
  {
   "cell_type": "code",
   "execution_count": 54,
   "metadata": {},
   "outputs": [
    {
     "data": {
      "text/plain": [
       "(124168, 9)"
      ]
     },
     "execution_count": 54,
     "metadata": {},
     "output_type": "execute_result"
    }
   ],
   "source": [
    "df_opti_2020.shape"
   ]
  },
  {
   "cell_type": "code",
   "execution_count": 55,
   "metadata": {},
   "outputs": [],
   "source": [
    "df_work1 = pd.merge(df_opti_2020,user_info, left_on='UserID', right_on='사번', how = 'left')\n",
    "df_work1_1 = pd.merge(df_opti_2021,user_info_2021, left_on='UserID', right_on='사번', how = 'left')"
   ]
  },
  {
   "cell_type": "code",
   "execution_count": 56,
   "metadata": {},
   "outputs": [],
   "source": [
    "df_work1_2 = pd.concat([df_work1,df_work1_1])"
   ]
  },
  {
   "cell_type": "code",
   "execution_count": 57,
   "metadata": {},
   "outputs": [
    {
     "data": {
      "text/plain": [
       "(162095, 18)"
      ]
     },
     "execution_count": 57,
     "metadata": {},
     "output_type": "execute_result"
    }
   ],
   "source": [
    "df_work1_2.shape"
   ]
  },
  {
   "cell_type": "code",
   "execution_count": 58,
   "metadata": {},
   "outputs": [],
   "source": [
    "# df_work1 = pd.merge(df_opti,user_info, left_on='UserID', right_on='사번', how = 'left')\n",
    "\n",
    "\n",
    "\n",
    "df_work_3 = df_work1_2[df_work1_2['제외대상']=='구성원']\n",
    "df_work_3 = df_work_3[df_work_3['미대상팀']=='대상']\n",
    "df_work2 = df_work_3.drop(columns=['사번','직급','연락처','제외대상','미대상팀'])\n",
    "\n",
    "# 분단위 분리, day 분리, 시간 분리\n",
    "# df_work2['date_day'] = df_work2['date'].astype('str').apply(lambda x : x[:10])"
   ]
  },
  {
   "cell_type": "code",
   "execution_count": 59,
   "metadata": {},
   "outputs": [
    {
     "data": {
      "text/html": [
       "<div>\n",
       "<style scoped>\n",
       "    .dataframe tbody tr th:only-of-type {\n",
       "        vertical-align: middle;\n",
       "    }\n",
       "\n",
       "    .dataframe tbody tr th {\n",
       "        vertical-align: top;\n",
       "    }\n",
       "\n",
       "    .dataframe thead th {\n",
       "        text-align: right;\n",
       "    }\n",
       "</style>\n",
       "<table border=\"1\" class=\"dataframe\">\n",
       "  <thead>\n",
       "    <tr style=\"text-align: right;\">\n",
       "      <th></th>\n",
       "      <th>date</th>\n",
       "      <th>UserID</th>\n",
       "      <th>SceneId</th>\n",
       "      <th>action.actionName</th>\n",
       "      <th>RequestType</th>\n",
       "      <th>Function</th>\n",
       "      <th>event.text</th>\n",
       "      <th>date_day</th>\n",
       "      <th>date_year</th>\n",
       "      <th>본부</th>\n",
       "      <th>팀</th>\n",
       "      <th>직위</th>\n",
       "      <th>이름</th>\n",
       "    </tr>\n",
       "  </thead>\n",
       "  <tbody>\n",
       "    <tr>\n",
       "      <th>0</th>\n",
       "      <td>2020-10-04 10:48:14.133</td>\n",
       "      <td>N1101208</td>\n",
       "      <td>DEFAULT</td>\n",
       "      <td>10askinfo</td>\n",
       "      <td>WORKTIME app.neos.android</td>\n",
       "      <td>근무시간 조회</td>\n",
       "      <td>NaN</td>\n",
       "      <td>2020-10-04</td>\n",
       "      <td>2020</td>\n",
       "      <td>인천본부</td>\n",
       "      <td>일산품질개선팀</td>\n",
       "      <td>파트장</td>\n",
       "      <td>김민규</td>\n",
       "    </tr>\n",
       "    <tr>\n",
       "      <th>1</th>\n",
       "      <td>2020-10-05 07:27:40.333</td>\n",
       "      <td>N1101208</td>\n",
       "      <td>DEFAULT</td>\n",
       "      <td>10askinfo</td>\n",
       "      <td>app.neos.android TROUBLE</td>\n",
       "      <td>OOS 조회</td>\n",
       "      <td>NaN</td>\n",
       "      <td>2020-10-05</td>\n",
       "      <td>2020</td>\n",
       "      <td>인천본부</td>\n",
       "      <td>일산품질개선팀</td>\n",
       "      <td>파트장</td>\n",
       "      <td>김민규</td>\n",
       "    </tr>\n",
       "    <tr>\n",
       "      <th>2</th>\n",
       "      <td>2020-10-05 08:55:38.160</td>\n",
       "      <td>N1103225</td>\n",
       "      <td>DEFAULT</td>\n",
       "      <td>10askinfo</td>\n",
       "      <td>app.neos.android BID_LOC_COUNTY</td>\n",
       "      <td>기지국검색</td>\n",
       "      <td>NaN</td>\n",
       "      <td>2020-10-05</td>\n",
       "      <td>2020</td>\n",
       "      <td>전북본부</td>\n",
       "      <td>전주품질개선팀</td>\n",
       "      <td>Manager</td>\n",
       "      <td>채신기</td>\n",
       "    </tr>\n",
       "    <tr>\n",
       "      <th>3</th>\n",
       "      <td>2020-10-05 08:55:48.493</td>\n",
       "      <td>N1103225</td>\n",
       "      <td>DEFAULT</td>\n",
       "      <td>10askinfo</td>\n",
       "      <td>app.neos.android BID_LOC_COUNTY</td>\n",
       "      <td>기지국검색</td>\n",
       "      <td>NaN</td>\n",
       "      <td>2020-10-05</td>\n",
       "      <td>2020</td>\n",
       "      <td>전북본부</td>\n",
       "      <td>전주품질개선팀</td>\n",
       "      <td>Manager</td>\n",
       "      <td>채신기</td>\n",
       "    </tr>\n",
       "    <tr>\n",
       "      <th>4</th>\n",
       "      <td>2020-10-05 08:56:24.027</td>\n",
       "      <td>N1103225</td>\n",
       "      <td>DEFAULT</td>\n",
       "      <td>10askinfo</td>\n",
       "      <td>app.neos.android</td>\n",
       "      <td>Unknown</td>\n",
       "      <td>NaN</td>\n",
       "      <td>2020-10-05</td>\n",
       "      <td>2020</td>\n",
       "      <td>전북본부</td>\n",
       "      <td>전주품질개선팀</td>\n",
       "      <td>Manager</td>\n",
       "      <td>채신기</td>\n",
       "    </tr>\n",
       "  </tbody>\n",
       "</table>\n",
       "</div>"
      ],
      "text/plain": [
       "                      date    UserID  SceneId action.actionName  \\\n",
       "0  2020-10-04 10:48:14.133  N1101208  DEFAULT         10askinfo   \n",
       "1  2020-10-05 07:27:40.333  N1101208  DEFAULT         10askinfo   \n",
       "2  2020-10-05 08:55:38.160  N1103225  DEFAULT         10askinfo   \n",
       "3  2020-10-05 08:55:48.493  N1103225  DEFAULT         10askinfo   \n",
       "4  2020-10-05 08:56:24.027  N1103225  DEFAULT         10askinfo   \n",
       "\n",
       "                       RequestType Function event.text    date_day date_year  \\\n",
       "0        WORKTIME app.neos.android  근무시간 조회        NaN  2020-10-04      2020   \n",
       "1         app.neos.android TROUBLE   OOS 조회        NaN  2020-10-05      2020   \n",
       "2  app.neos.android BID_LOC_COUNTY    기지국검색        NaN  2020-10-05      2020   \n",
       "3  app.neos.android BID_LOC_COUNTY    기지국검색        NaN  2020-10-05      2020   \n",
       "4                 app.neos.android  Unknown        NaN  2020-10-05      2020   \n",
       "\n",
       "     본부        팀       직위   이름  \n",
       "0  인천본부  일산품질개선팀      파트장  김민규  \n",
       "1  인천본부  일산품질개선팀      파트장  김민규  \n",
       "2  전북본부  전주품질개선팀  Manager  채신기  \n",
       "3  전북본부  전주품질개선팀  Manager  채신기  \n",
       "4  전북본부  전주품질개선팀  Manager  채신기  "
      ]
     },
     "execution_count": 59,
     "metadata": {},
     "output_type": "execute_result"
    }
   ],
   "source": [
    "df_work2.head()"
   ]
  },
  {
   "cell_type": "code",
   "execution_count": 60,
   "metadata": {},
   "outputs": [
    {
     "data": {
      "text/html": [
       "<div>\n",
       "<style scoped>\n",
       "    .dataframe tbody tr th:only-of-type {\n",
       "        vertical-align: middle;\n",
       "    }\n",
       "\n",
       "    .dataframe tbody tr th {\n",
       "        vertical-align: top;\n",
       "    }\n",
       "\n",
       "    .dataframe thead th {\n",
       "        text-align: right;\n",
       "    }\n",
       "</style>\n",
       "<table border=\"1\" class=\"dataframe\">\n",
       "  <thead>\n",
       "    <tr style=\"text-align: right;\">\n",
       "      <th></th>\n",
       "      <th>date</th>\n",
       "      <th>UserID</th>\n",
       "      <th>SceneId</th>\n",
       "      <th>action.actionName</th>\n",
       "      <th>RequestType</th>\n",
       "      <th>Function</th>\n",
       "      <th>event.text</th>\n",
       "      <th>date_day</th>\n",
       "      <th>date_year</th>\n",
       "      <th>본부</th>\n",
       "      <th>팀</th>\n",
       "      <th>직위</th>\n",
       "      <th>이름</th>\n",
       "    </tr>\n",
       "  </thead>\n",
       "  <tbody>\n",
       "    <tr>\n",
       "      <th>37921</th>\n",
       "      <td>2021-03-07 17:59:44.603</td>\n",
       "      <td>N1104215</td>\n",
       "      <td>DEFAULT</td>\n",
       "      <td>10askinfo</td>\n",
       "      <td>app.neos.android TROUBLE</td>\n",
       "      <td>OOS 조회</td>\n",
       "      <td>2018Z4828</td>\n",
       "      <td>2021-03-07</td>\n",
       "      <td>2021</td>\n",
       "      <td>강남본부</td>\n",
       "      <td>강동품질개선팀</td>\n",
       "      <td>Manager</td>\n",
       "      <td>이재훈</td>\n",
       "    </tr>\n",
       "    <tr>\n",
       "      <th>37922</th>\n",
       "      <td>2021-03-07 18:03:11.933</td>\n",
       "      <td>N1104215</td>\n",
       "      <td>DEFAULT</td>\n",
       "      <td>17comebackhome</td>\n",
       "      <td>app.neos.android</td>\n",
       "      <td>Unknown</td>\n",
       "      <td>2018Z4828</td>\n",
       "      <td>2021-03-07</td>\n",
       "      <td>2021</td>\n",
       "      <td>강남본부</td>\n",
       "      <td>강동품질개선팀</td>\n",
       "      <td>Manager</td>\n",
       "      <td>이재훈</td>\n",
       "    </tr>\n",
       "    <tr>\n",
       "      <th>37923</th>\n",
       "      <td>2021-03-07 18:40:55.220</td>\n",
       "      <td>N1101347</td>\n",
       "      <td>DEFAULT</td>\n",
       "      <td>01open_door</td>\n",
       "      <td>app.neos.android</td>\n",
       "      <td>출입문제어</td>\n",
       "      <td>200622348</td>\n",
       "      <td>2021-03-07</td>\n",
       "      <td>2021</td>\n",
       "      <td>전남본부</td>\n",
       "      <td>순천품질개선팀</td>\n",
       "      <td>Manager</td>\n",
       "      <td>김정욱</td>\n",
       "    </tr>\n",
       "    <tr>\n",
       "      <th>37925</th>\n",
       "      <td>2021-03-07 21:03:53.013</td>\n",
       "      <td>N1101120</td>\n",
       "      <td>DEFAULT</td>\n",
       "      <td>06navigation</td>\n",
       "      <td>app.neos.android</td>\n",
       "      <td>국소 길안내</td>\n",
       "      <td>2006Z4099</td>\n",
       "      <td>2021-03-07</td>\n",
       "      <td>2021</td>\n",
       "      <td>전북본부</td>\n",
       "      <td>전주품질개선팀</td>\n",
       "      <td>Manager</td>\n",
       "      <td>권영길</td>\n",
       "    </tr>\n",
       "    <tr>\n",
       "      <th>37926</th>\n",
       "      <td>2021-03-07 22:40:30.950</td>\n",
       "      <td>N1102103</td>\n",
       "      <td>DEFAULT</td>\n",
       "      <td>17comebackhome</td>\n",
       "      <td>app.neos.android</td>\n",
       "      <td>Unknown</td>\n",
       "      <td>2014Y1459</td>\n",
       "      <td>2021-03-07</td>\n",
       "      <td>2021</td>\n",
       "      <td>경남본부</td>\n",
       "      <td>김해품질개선팀</td>\n",
       "      <td>Manager</td>\n",
       "      <td>장윤호</td>\n",
       "    </tr>\n",
       "  </tbody>\n",
       "</table>\n",
       "</div>"
      ],
      "text/plain": [
       "                          date    UserID  SceneId action.actionName  \\\n",
       "37921  2021-03-07 17:59:44.603  N1104215  DEFAULT         10askinfo   \n",
       "37922  2021-03-07 18:03:11.933  N1104215  DEFAULT    17comebackhome   \n",
       "37923  2021-03-07 18:40:55.220  N1101347  DEFAULT       01open_door   \n",
       "37925  2021-03-07 21:03:53.013  N1101120  DEFAULT      06navigation   \n",
       "37926  2021-03-07 22:40:30.950  N1102103  DEFAULT    17comebackhome   \n",
       "\n",
       "                    RequestType Function event.text    date_day date_year  \\\n",
       "37921  app.neos.android TROUBLE   OOS 조회  2018Z4828  2021-03-07      2021   \n",
       "37922          app.neos.android  Unknown  2018Z4828  2021-03-07      2021   \n",
       "37923          app.neos.android    출입문제어  200622348  2021-03-07      2021   \n",
       "37925          app.neos.android   국소 길안내  2006Z4099  2021-03-07      2021   \n",
       "37926          app.neos.android  Unknown  2014Y1459  2021-03-07      2021   \n",
       "\n",
       "         본부        팀       직위   이름  \n",
       "37921  강남본부  강동품질개선팀  Manager  이재훈  \n",
       "37922  강남본부  강동품질개선팀  Manager  이재훈  \n",
       "37923  전남본부  순천품질개선팀  Manager  김정욱  \n",
       "37925  전북본부  전주품질개선팀  Manager  권영길  \n",
       "37926  경남본부  김해품질개선팀  Manager  장윤호  "
      ]
     },
     "execution_count": 60,
     "metadata": {},
     "output_type": "execute_result"
    }
   ],
   "source": [
    "df_work2.tail()"
   ]
  },
  {
   "cell_type": "markdown",
   "metadata": {},
   "source": [
    "# 활용율\n",
    "분석할때 user_info 기준 활용율 활용"
   ]
  },
  {
   "cell_type": "code",
   "execution_count": 61,
   "metadata": {},
   "outputs": [],
   "source": [
    "user_info2 = user_info_2021[(user_info_2021['제외대상'] == '구성원') & (user_info_2021['미대상팀']=='대상')]\n",
    "user_info3 = user_info2.groupby(['본부']).size().reset_index(name = '인원수')"
   ]
  },
  {
   "cell_type": "code",
   "execution_count": 62,
   "metadata": {},
   "outputs": [
    {
     "name": "stdout",
     "output_type": "stream",
     "text": [
      "총구성원 :  2329\n",
      "서비스 대상 :  1497\n",
      "누적사용자 수 :  1340\n"
     ]
    }
   ],
   "source": [
    "print('총구성원 : ',user_info[(user_info['제외대상'] == '구성원') ].shape[0])\n",
    "print('서비스 대상 : ',user_info2.shape[0])\n",
    "print('누적사용자 수 : ',df_work2.drop_duplicates(['UserID'], keep='last').shape[0])"
   ]
  },
  {
   "cell_type": "code",
   "execution_count": 63,
   "metadata": {},
   "outputs": [],
   "source": [
    "df_work3 = pd.merge(df_work2,weekly_df, left_on='date_day', right_on='date', how='left')"
   ]
  },
  {
   "cell_type": "code",
   "execution_count": null,
   "metadata": {},
   "outputs": [],
   "source": []
  },
  {
   "cell_type": "code",
   "execution_count": 72,
   "metadata": {},
   "outputs": [],
   "source": [
    "df_work3['사용구분'] = \"음성\""
   ]
  },
  {
   "cell_type": "code",
   "execution_count": 74,
   "metadata": {},
   "outputs": [],
   "source": [
    "df_navi_start = pd.read_csv('./neos_nugu_db/neos_navigation_db/nugu_navigation_20210307.csv',names=['Seq','UserID','DeviceType',\n",
    "                                                                                               'DeviceId','LogType','SceneId','Log',\n",
    "                                                                                              'RegtDate'])\n",
    "df_navi_opti = df_navi_start[['UserID', 'SceneId','RegtDate']]\n",
    "df_navi_opti['date_day'] = df_navi_opti['RegtDate'].astype('str').apply(lambda x : x[:10])\n",
    "\n",
    "conditionlist = [\n",
    "    (df_navi_opti['SceneId']=='TMAP'),\n",
    "    (df_navi_opti['SceneId']=='ACCESSINFO'),\n",
    "    (df_navi_opti['SceneId']=='STATIONINFO'),\n",
    "    (df_navi_opti['SceneId']=='MENU_WORKLOG'),\n",
    "    (df_navi_opti['SceneId']=='HISTORY_ALARM'),\n",
    "    (df_navi_opti['SceneId']=='REGISTERWORK_CONFIRM'),\n",
    "    (df_navi_opti['SceneId']=='LIVEALARM'),\n",
    "    (df_navi_opti['SceneId']=='DOOR_OPEN'),\n",
    "]\n",
    "\n",
    "choicelist = ['국소 길안내','출입정보 조회', '환경정보', '업무일지 작성','이력정보 조회','작업등록','실시간 알람','출입문제어']\n",
    "df_navi_opti['Function'] = np.select(conditionlist,choicelist, default = 'Unknown')"
   ]
  },
  {
   "cell_type": "code",
   "execution_count": 76,
   "metadata": {},
   "outputs": [],
   "source": [
    "df_navi_work1 = pd.merge(df_navi_opti,user_info_2021, left_on='UserID', right_on='사번', how = 'left')\n",
    "df_navi_work2 = pd.merge(df_navi_work1,weekly_df, left_on='date_day', right_on='date', how='left')"
   ]
  },
  {
   "cell_type": "code",
   "execution_count": 78,
   "metadata": {},
   "outputs": [],
   "source": [
    "df_navi_work2.reset_index(drop=True,inplace=True)\n",
    "df_navi_work3 = df_navi_work2[df_navi_work2['제외대상']=='구성원']\n",
    "df_navi_work3 = df_navi_work3[df_navi_work3['미대상팀']=='대상']\n",
    "df_navi_work3 = df_navi_work3.drop(columns=['사번','직급','연락처','제외대상','미대상팀','date','SceneId'])"
   ]
  },
  {
   "cell_type": "code",
   "execution_count": 79,
   "metadata": {},
   "outputs": [],
   "source": [
    "df_navi_work3.rename(columns={'RegtDate':'date_x'},inplace=True)"
   ]
  },
  {
   "cell_type": "code",
   "execution_count": 82,
   "metadata": {},
   "outputs": [],
   "source": [
    "df_navi_work3['사용구분'] = \"Navi\""
   ]
  },
  {
   "cell_type": "code",
   "execution_count": 85,
   "metadata": {},
   "outputs": [],
   "source": [
    "df_work3.drop(columns=['SceneId','RequestType','date_y'], inplace=True)"
   ]
  },
  {
   "cell_type": "code",
   "execution_count": 87,
   "metadata": {},
   "outputs": [],
   "source": [
    "df_work4 = pd.concat([df_work3,df_navi_work3])"
   ]
  },
  {
   "cell_type": "code",
   "execution_count": 88,
   "metadata": {},
   "outputs": [],
   "source": [
    "df_work4.to_excel('./neos_a_활용(사이드바포함)_'+now+'.xlsx', encoding='euc-kr')"
   ]
  },
  {
   "cell_type": "markdown",
   "metadata": {},
   "source": [
    "# 주차별 본부활용"
   ]
  },
  {
   "cell_type": "code",
   "execution_count": 89,
   "metadata": {},
   "outputs": [],
   "source": [
    "df_deduplication = df_work4.drop_duplicates(['주차','본부','UserID'], keep='first')\n",
    "df_area_weekly = df_deduplication.groupby(['주차','본부']).size().reset_index(name='count')"
   ]
  },
  {
   "cell_type": "code",
   "execution_count": null,
   "metadata": {},
   "outputs": [],
   "source": []
  },
  {
   "cell_type": "code",
   "execution_count": 90,
   "metadata": {},
   "outputs": [],
   "source": [
    "import xlsxwriter\n",
    "import openpyxl\n",
    "from openpyxl.workbook import Workbook\n",
    "from openpyxl.styles import Font, Fill\n",
    "\n",
    "import warnings\n",
    "warnings.filterwarnings('ignore')"
   ]
  },
  {
   "cell_type": "code",
   "execution_count": 91,
   "metadata": {},
   "outputs": [],
   "source": [
    "df_area_weekly.to_excel('./주차별 본부사용자_'+now+'.xlsx', sheet_name='주차별 본부사용자수', encoding='euc-kr')"
   ]
  },
  {
   "cell_type": "code",
   "execution_count": 94,
   "metadata": {},
   "outputs": [],
   "source": [
    "df_work4.groupby(['date_day']).size().reset_index(name='건수').to_excel('./일별발화건수_'+now+'.xlsx', sheet_name='date_count', encoding='euc-kr')"
   ]
  },
  {
   "cell_type": "code",
   "execution_count": 95,
   "metadata": {},
   "outputs": [
    {
     "data": {
      "text/html": [
       "<div>\n",
       "<style scoped>\n",
       "    .dataframe tbody tr th:only-of-type {\n",
       "        vertical-align: middle;\n",
       "    }\n",
       "\n",
       "    .dataframe tbody tr th {\n",
       "        vertical-align: top;\n",
       "    }\n",
       "\n",
       "    .dataframe thead th {\n",
       "        text-align: right;\n",
       "    }\n",
       "</style>\n",
       "<table border=\"1\" class=\"dataframe\">\n",
       "  <thead>\n",
       "    <tr style=\"text-align: right;\">\n",
       "      <th></th>\n",
       "      <th>주차</th>\n",
       "      <th>건수</th>\n",
       "    </tr>\n",
       "  </thead>\n",
       "  <tbody>\n",
       "    <tr>\n",
       "      <th>0</th>\n",
       "      <td>10월 1주차</td>\n",
       "      <td>2824</td>\n",
       "    </tr>\n",
       "    <tr>\n",
       "      <th>1</th>\n",
       "      <td>10월 2주차</td>\n",
       "      <td>4988</td>\n",
       "    </tr>\n",
       "    <tr>\n",
       "      <th>2</th>\n",
       "      <td>10월 3주차</td>\n",
       "      <td>5852</td>\n",
       "    </tr>\n",
       "    <tr>\n",
       "      <th>3</th>\n",
       "      <td>10월 4주차</td>\n",
       "      <td>7754</td>\n",
       "    </tr>\n",
       "    <tr>\n",
       "      <th>4</th>\n",
       "      <td>10월 휴일</td>\n",
       "      <td>1030</td>\n",
       "    </tr>\n",
       "    <tr>\n",
       "      <th>5</th>\n",
       "      <td>11월 1주차</td>\n",
       "      <td>10038</td>\n",
       "    </tr>\n",
       "    <tr>\n",
       "      <th>6</th>\n",
       "      <td>11월 2주차</td>\n",
       "      <td>21679</td>\n",
       "    </tr>\n",
       "    <tr>\n",
       "      <th>7</th>\n",
       "      <td>11월 3주차</td>\n",
       "      <td>18332</td>\n",
       "    </tr>\n",
       "    <tr>\n",
       "      <th>8</th>\n",
       "      <td>11월 4주차</td>\n",
       "      <td>13467</td>\n",
       "    </tr>\n",
       "    <tr>\n",
       "      <th>9</th>\n",
       "      <td>11월 휴일</td>\n",
       "      <td>2859</td>\n",
       "    </tr>\n",
       "    <tr>\n",
       "      <th>10</th>\n",
       "      <td>12월 1주차</td>\n",
       "      <td>9808</td>\n",
       "    </tr>\n",
       "    <tr>\n",
       "      <th>11</th>\n",
       "      <td>12월 2주차</td>\n",
       "      <td>7159</td>\n",
       "    </tr>\n",
       "    <tr>\n",
       "      <th>12</th>\n",
       "      <td>12월 3주차</td>\n",
       "      <td>4649</td>\n",
       "    </tr>\n",
       "    <tr>\n",
       "      <th>13</th>\n",
       "      <td>12월 4주차</td>\n",
       "      <td>2641</td>\n",
       "    </tr>\n",
       "    <tr>\n",
       "      <th>14</th>\n",
       "      <td>12월 5주차</td>\n",
       "      <td>2095</td>\n",
       "    </tr>\n",
       "    <tr>\n",
       "      <th>15</th>\n",
       "      <td>12월 휴일</td>\n",
       "      <td>914</td>\n",
       "    </tr>\n",
       "    <tr>\n",
       "      <th>16</th>\n",
       "      <td>1월 1주차</td>\n",
       "      <td>3226</td>\n",
       "    </tr>\n",
       "    <tr>\n",
       "      <th>17</th>\n",
       "      <td>1월 2주차</td>\n",
       "      <td>3674</td>\n",
       "    </tr>\n",
       "    <tr>\n",
       "      <th>18</th>\n",
       "      <td>1월 3주차</td>\n",
       "      <td>3388</td>\n",
       "    </tr>\n",
       "    <tr>\n",
       "      <th>19</th>\n",
       "      <td>1월 4주차</td>\n",
       "      <td>3849</td>\n",
       "    </tr>\n",
       "    <tr>\n",
       "      <th>20</th>\n",
       "      <td>1월 휴일</td>\n",
       "      <td>693</td>\n",
       "    </tr>\n",
       "    <tr>\n",
       "      <th>21</th>\n",
       "      <td>2월 1주차</td>\n",
       "      <td>5601</td>\n",
       "    </tr>\n",
       "    <tr>\n",
       "      <th>22</th>\n",
       "      <td>2월 2주차</td>\n",
       "      <td>2140</td>\n",
       "    </tr>\n",
       "    <tr>\n",
       "      <th>23</th>\n",
       "      <td>2월 3주차</td>\n",
       "      <td>3951</td>\n",
       "    </tr>\n",
       "    <tr>\n",
       "      <th>24</th>\n",
       "      <td>2월 4주차</td>\n",
       "      <td>5387</td>\n",
       "    </tr>\n",
       "    <tr>\n",
       "      <th>25</th>\n",
       "      <td>2월 휴일</td>\n",
       "      <td>1132</td>\n",
       "    </tr>\n",
       "    <tr>\n",
       "      <th>26</th>\n",
       "      <td>3월 1주차</td>\n",
       "      <td>3419</td>\n",
       "    </tr>\n",
       "    <tr>\n",
       "      <th>27</th>\n",
       "      <td>3월 휴일</td>\n",
       "      <td>343</td>\n",
       "    </tr>\n",
       "    <tr>\n",
       "      <th>28</th>\n",
       "      <td>오픈전</td>\n",
       "      <td>17</td>\n",
       "    </tr>\n",
       "  </tbody>\n",
       "</table>\n",
       "</div>"
      ],
      "text/plain": [
       "         주차     건수\n",
       "0   10월 1주차   2824\n",
       "1   10월 2주차   4988\n",
       "2   10월 3주차   5852\n",
       "3   10월 4주차   7754\n",
       "4    10월 휴일   1030\n",
       "5   11월 1주차  10038\n",
       "6   11월 2주차  21679\n",
       "7   11월 3주차  18332\n",
       "8   11월 4주차  13467\n",
       "9    11월 휴일   2859\n",
       "10  12월 1주차   9808\n",
       "11  12월 2주차   7159\n",
       "12  12월 3주차   4649\n",
       "13  12월 4주차   2641\n",
       "14  12월 5주차   2095\n",
       "15   12월 휴일    914\n",
       "16   1월 1주차   3226\n",
       "17   1월 2주차   3674\n",
       "18   1월 3주차   3388\n",
       "19   1월 4주차   3849\n",
       "20    1월 휴일    693\n",
       "21   2월 1주차   5601\n",
       "22   2월 2주차   2140\n",
       "23   2월 3주차   3951\n",
       "24   2월 4주차   5387\n",
       "25    2월 휴일   1132\n",
       "26   3월 1주차   3419\n",
       "27    3월 휴일    343\n",
       "28      오픈전     17"
      ]
     },
     "execution_count": 95,
     "metadata": {},
     "output_type": "execute_result"
    }
   ],
   "source": [
    "df_work4.groupby('주차').size().reset_index(name='건수')"
   ]
  },
  {
   "cell_type": "code",
   "execution_count": null,
   "metadata": {},
   "outputs": [],
   "source": []
  },
  {
   "cell_type": "markdown",
   "metadata": {},
   "source": [
    "# 다시 해보자 ㅠㅠ"
   ]
  },
  {
   "cell_type": "code",
   "execution_count": null,
   "metadata": {},
   "outputs": [],
   "source": [
    "filename = './NeOS-A_Report2020-12-04.xlsx'\n",
    "book = openpyxl.load_workbook(filename)"
   ]
  },
  {
   "cell_type": "code",
   "execution_count": null,
   "metadata": {},
   "outputs": [],
   "source": [
    "sheet_area_weekly = book.create_sheet('주차별 본부사용자')\n",
    "book.save(filename)"
   ]
  },
  {
   "cell_type": "code",
   "execution_count": null,
   "metadata": {},
   "outputs": [],
   "source": [
    "writer = pd.ExcelWriter('./NeOS-A_Report2020-12-04.xlsx', sheet_name='date_count', engine='xlsxwriter')\n",
    "df_area_weekly.to_excel(writer, sheet_name='주차별 본부사용자', startrow=1)"
   ]
  }
 ],
 "metadata": {
  "kernelspec": {
   "display_name": "Python 3",
   "language": "python",
   "name": "python3"
  },
  "language_info": {
   "codemirror_mode": {
    "name": "ipython",
    "version": 3
   },
   "file_extension": ".py",
   "mimetype": "text/x-python",
   "name": "python",
   "nbconvert_exporter": "python",
   "pygments_lexer": "ipython3",
   "version": "3.8.3"
  }
 },
 "nbformat": 4,
 "nbformat_minor": 4
}
