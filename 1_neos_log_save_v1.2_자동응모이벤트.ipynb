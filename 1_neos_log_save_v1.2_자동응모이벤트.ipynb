{
 "cells": [
  {
   "cell_type": "markdown",
   "metadata": {},
   "source": [
    "# NeOS Server Log"
   ]
  },
  {
   "cell_type": "code",
   "execution_count": 1,
   "metadata": {},
   "outputs": [],
   "source": [
    "#date에 뽑고싶은 날짜를 입력\n",
    "log_date = '2020-12-24'\n",
    "log_address = ('http://211.110.170.61/log/Ons_SR_'+log_date+'.log')"
   ]
  },
  {
   "cell_type": "markdown",
   "metadata": {},
   "source": [
    "# 1. 로그 읽어오기 \n",
    " - 샘플url : http://211.110.170.61/log/Ons_SR_2020-10-09.log\n",
    " - 주의 사항 : 로그 2번 읽으면 json 문구 오류 발생함 \n"
   ]
  },
  {
   "cell_type": "code",
   "execution_count": 2,
   "metadata": {},
   "outputs": [],
   "source": [
    "import pandas as pd\n",
    "import numpy as np\n",
    "import matplotlib.pyplot as plt\n",
    "from pandas import DataFrame as df\n",
    "from pandas import json_normalize\n",
    "from matplotlib import font_manager, rc\n",
    "import os"
   ]
  },
  {
   "cell_type": "code",
   "execution_count": 3,
   "metadata": {},
   "outputs": [],
   "source": [
    "#해당일자의 서버로그를 가져오기, 한글 인코딩\n",
    "import urllib.request\n",
    "url = log_address\n",
    "savename = (log_date+'.log')\n",
    "mem=urllib.request.urlopen(url).read().decode('cp949')\n",
    "\n",
    "#현재 시간 타임코드 찍어두기\n",
    "from datetime import datetime\n",
    "now = datetime.now()\n",
    "now=now.strftime('%Y-%m-%d-%H-%M')"
   ]
  },
  {
   "cell_type": "code",
   "execution_count": 4,
   "metadata": {},
   "outputs": [],
   "source": [
    "#데이터 균질화 : ★★★★★★★★★이거 2번 실행하면 좆댐\n",
    "mem = mem.replace('true','\"true\"')\n",
    "mem = mem.replace('false','\"false\"')"
   ]
  },
  {
   "cell_type": "code",
   "execution_count": 5,
   "metadata": {},
   "outputs": [],
   "source": [
    "#라인으로 나누고 Input, Output 파싱\n",
    "line = mem.split('\\r\\nE ')\n",
    "line_input=[]\n",
    "line_output=[]\n",
    "inputword = ('\"version\":\"2.0\"')\n",
    "outputword = ('\"output\":{\"prompt\"')\n",
    "for i in line:\n",
    "    if inputword in i:\n",
    "        line_input.append(i)\n",
    "    elif outputword in i:\n",
    "        line_output.append(i)"
   ]
  },
  {
   "cell_type": "code",
   "execution_count": 6,
   "metadata": {},
   "outputs": [],
   "source": [
    "#요청통계 분석 목적이므로 여기서부터는 Input만 다룸. JSON형태로 변경\n",
    "json_input = []\n",
    "for i in line_input:\n",
    "    #print(i)\n",
    "    string = i[0:48]\n",
    "    replace_string = '{\"date_time\":{\"timestamp\":\"'+string[0:25]+'\"}'\n",
    "    json_input.append(replace_string+i[48:])\n",
    "     "
   ]
  },
  {
   "cell_type": "code",
   "execution_count": null,
   "metadata": {},
   "outputs": [],
   "source": []
  },
  {
   "cell_type": "code",
   "execution_count": null,
   "metadata": {},
   "outputs": [],
   "source": []
  },
  {
   "cell_type": "code",
   "execution_count": null,
   "metadata": {},
   "outputs": [],
   "source": []
  },
  {
   "cell_type": "markdown",
   "metadata": {},
   "source": [
    "# 데이터 테이블로 추출"
   ]
  },
  {
   "cell_type": "code",
   "execution_count": 7,
   "metadata": {},
   "outputs": [],
   "source": [
    "from tqdm.notebook import tqdm"
   ]
  },
  {
   "cell_type": "code",
   "execution_count": 8,
   "metadata": {},
   "outputs": [
    {
     "data": {
      "application/vnd.jupyter.widget-view+json": {
       "model_id": "d7fc069acfd042ed972b4f19d04a831a",
       "version_major": 2,
       "version_minor": 0
      },
      "text/plain": [
       "HBox(children=(FloatProgress(value=0.0, max=1042.0), HTML(value='')))"
      ]
     },
     "metadata": {},
     "output_type": "display_data"
    },
    {
     "name": "stdout",
     "output_type": "stream",
     "text": [
      "\n"
     ]
    }
   ],
   "source": [
    "#제이슨 노멀라이즈로 파싱해 데이터 프레임에 저장\n",
    "df1 = df()\n",
    "for i in tqdm(range(len(json_input))):\n",
    "    df1=df1.append(json_normalize(eval(json_input[i])), ignore_index=True)"
   ]
  },
  {
   "cell_type": "markdown",
   "metadata": {},
   "source": [
    "# 에러발생시\n",
    "- 아래 주석을 풀고 활용하기"
   ]
  },
  {
   "cell_type": "code",
   "execution_count": 9,
   "metadata": {},
   "outputs": [],
   "source": [
    "# #제이슨 노멀라이즈로 파싱해 데이터 프레임에 저장\n",
    "# df1 = df()\n",
    "# for i in tqdm(range(0,2526)):\n",
    "#     df1=df1.append(json_normalize(eval(json_input[i])), ignore_index=True)\n",
    "\n",
    "\n",
    "\n",
    "# #제이슨 노멀라이즈로 파싱해 데이터 프레임에 저장\n",
    "# df2 = df()\n",
    "# for i in tqdm(range(2527, 6457)):\n",
    "#     df2=df2.append(json_normalize(eval(json_input[i])), ignore_index=True)\n",
    "\n",
    "# df3 = pd.concat([df1,df2])\n",
    "# df1 = df3"
   ]
  },
  {
   "cell_type": "markdown",
   "metadata": {},
   "source": [
    "# 2. 데이터 프레임 만들기"
   ]
  },
  {
   "cell_type": "code",
   "execution_count": 10,
   "metadata": {},
   "outputs": [],
   "source": [
    "#불필요한 컬럼 제거하고 df2로 저장 \n",
    "#이건 매번 사용 형태에 따라 데이터가 달라질 수도 있어서 에러날 수 있음. 반드시 제거되어야할 컬럼을 첫번째로 삭제되도록 지속 조정 필요\n",
    "\n",
    "# df2 = df1.drop(['event.version','context.device.type','context.session.isNew','action.parameters.arrival_time.value','action.parameters.prompt.value','context.session.isPlayBuilderRequest','context.supportedInterfaces.Text.version','context.supportedInterfaces.Extension.version'], axis=1)\n",
    "# df2 = df2.drop(['action.parameters.result.value','action.parameters.setstation_name.value'], axis=1)\n",
    "# df2 = df2.drop(['event.playServiceId','context.supportedInterfaces.Extension.data.SetData.RqstPrntDeptCode','context.supportedInterfaces.Extension.data.SetData.RqstDeptCode'], axis=1)\n",
    "# df2 = df2.drop(['context.supportedInterfaces.Extension.data.BizData.BidQt','event.sessionId','context.supportedInterfaces.Extension.data.SetData.EquipCode','context.supportedInterfaces.Extension.data.SetData.EquipType','context.supportedInterfaces.Extension.data.SetData.Latitd','context.supportedInterfaces.Extension.data.SetData.Longitd','context.supportedInterfaces.Extension.data.SetData.LocalName','context.supportedInterfaces.Extension.data.SetData.TakeTime','context.supportedInterfaces.Extension.data.SetData.ServerIP','context.supportedInterfaces.Extension.data.SetData.MyLatitd','context.supportedInterfaces.Extension.data.SetData.MyLongitd','context.supportedInterfaces.Extension.data.SetData.RegtNo','context.supportedInterfaces.Extension.data.SetData.StartDate','context.supportedInterfaces.Extension.data.BizData.WorkList.OOS'], axis=1)\n",
    "# df2 = df2.drop(['context.supportedInterfaces.Extension.data.BizData.WorkList.MyWork','context.supportedInterfaces.Extension.data.BizData.WorkList.Scheduler','context.supportedInterfaces.Extension.data.BizData.WorkList.Notice','context.supportedInterfaces.Extension.data.BizData.HistoryList.Alarm','context.supportedInterfaces.Extension.data.BizData.HistoryList.Work','context.supportedInterfaces.Extension.data.BizData.HistoryList.Access','context.supportedInterfaces.Extension.data.BizData.HistoryList.WorkLog','context.supportedInterfaces.Extension.data.SetData.WorkDvsCode','context.supportedInterfaces.Extension.data.BizData.EquipList'], axis=1)\n",
    "\n",
    "\n",
    "#주요 요청 정보인 Type과 Value를 신규생성\n",
    "#Nan 값을 다 비움\n",
    "df2=df1.fillna('')\n",
    "\n",
    "#입력 타입을 합치기 위해 type으로 끝나는 것만 df3으로 만들어서 RequestType으로 추가\n",
    "#df2=df1\n",
    "df3=df2.filter(regex='type$', axis=1)\n",
    "df2['RequestType'] = df3.apply('/'.join, axis=1)\n",
    "\n",
    "#RequestValue df4로 만들어서 df2에 추가\n",
    "df4=df2.filter(regex='value$', axis=1)\n",
    "df2['RequestValue'] = df4.apply('/'.join, axis=1)\n",
    "\n",
    "#불필요한 / 제거\n",
    "df2['RequestType'] = df2['RequestType'].str.replace(pat=r'[/]', repl= r' ', regex=True)  # replace all special symbols to space\n",
    "df2['RequestType'] = df2['RequestType'].str.replace(pat=r'\\s+', repl= r' ', regex=True)  # replace multiple spaces with a single space\n",
    "df2['RequestValue'] = df2['RequestValue'].str.replace(pat=r'[/]', repl= r' ', regex=True)  # replace all special symbols to space\n",
    "df2['RequestValue'] = df2['RequestValue'].str.replace(pat=r'\\s+', repl= r' ', regex=True)  # replace multiple spaces with a single space\n",
    "df2['RequestType']=df2['RequestType'].str.strip()\n",
    "df2['RequestValue']=df2['RequestValue'].str.strip()\n",
    "\n",
    "df2[['RequestType','RequestValue']]\n",
    "\n",
    "\n",
    "\n",
    "#action.actionName과 RequestType을 이용해 요청 기능 분석해 Function에 저장\n",
    "conditionlist = [\n",
    "    (df2['action.actionName'] == \"01open_door\"),\n",
    "    (df2['action.actionName'] == '02register_work'),\n",
    "    (df2['action.actionName'] == '03ask_visitor'),\n",
    "    (df2['action.actionName'] == '04ask_accessinfo'),    \n",
    "    (df2['action.actionName'] == '05menu_workhistory'),\n",
    "    (df2['action.actionName'] == '06navigation'),\n",
    "    (df2['action.actionName'] == '07change_station'),\n",
    "    (df2['action.actionName'] == '08go'),\n",
    "    (df2['action.actionName'] == '09common_nogo_popupclose'),\n",
    "    (df2['action.actionName'] == '11common_searchresult_number'),\n",
    "    (df2['action.actionName'] == '13ask_guide'),\n",
    "    (df2['action.actionName'] == '12ask_who') & ((df2['RequestType']).str.contains ('WORKER')),\n",
    "    (df2['action.actionName'] == '12ask_who') & ((df2['RequestType']).str.contains ('VACATIONER')),\n",
    "    (df2['action.actionName'] == '10askinfo') & ((df2['RequestType']).str.contains ('WORKLIST')),\n",
    "    (df2['action.actionName'] == '10askinfo') & ((df2['RequestType']).str.contains ('MYWORK')),\n",
    "    (df2['action.actionName'] == '10askinfo') & ((df2['RequestType']).str.contains ('NOTICE')),\n",
    "    (df2['action.actionName'] == '10askinfo') & ((df2['RequestType']).str.contains ('SCHEDULER')),\n",
    "    (df2['action.actionName'] == '10askinfo') & ((df2['RequestType']).str.contains ('TROUBLE')),\n",
    "    (df2['action.actionName'] == '10askinfo') & ((df2['RequestType']).str.contains ('WORKHISTORY')),\n",
    "    (df2['action.actionName'] == '10askinfo') & ((df2['RequestType']).str.contains ('ACCESSHISTORY')),\n",
    "    (df2['action.actionName'] == '10askinfo') & ((df2['RequestType']).str.contains ('ALARMHISTORY')),\n",
    "    (df2['action.actionName'] == '10askinfo') & ((df2['RequestType']).str.contains ('HISTORYINFO')),\n",
    "    (df2['action.actionName'] == '10askinfo') & ((df2['RequestType']).str.contains ('WORKLOG')),\n",
    "    (df2['action.actionName'] == '10askinfo') & ((df2['RequestType']).str.contains ('VISITOR')),\n",
    "    (df2['action.actionName'] == '10askinfo') & ((df2['RequestType']).str.contains ('ACCESSINFO')),\n",
    "    (df2['action.actionName'] == '10askinfo') & ((df2['RequestType']).str.contains ('NEARSTATION')),\n",
    "    (df2['action.actionName'] == '10askinfo') & ((df2['RequestType']).str.contains ('NEARWORKLIST')),\n",
    "    (df2['action.actionName'] == '10askinfo') & ((df2['RequestType']).str.contains ('NEARRU')),\n",
    "    (df2['action.actionName'] == '10askinfo') & ((df2['RequestType']).str.contains ('BID_LOC_COUNTY')& ((df2['RequestType']).str.contains ('REPEATER'))),\n",
    "    (df2['action.actionName'] == '10askinfo') & ((df2['RequestType']).str.contains ('BID_LOC_COUNTY')),\n",
    "    (df2['action.actionName'] == '10askinfo') & ((df2['RequestType']).str.contains ('BID_LOC_CITY')& ((df2['RequestType']).str.contains ('REPEATER'))),\n",
    "    (df2['action.actionName'] == '10askinfo') & ((df2['RequestType']).str.contains ('BID_LOC_CITY')),\n",
    "    (df2['action.actionName'] == '10askinfo') & ((df2['RequestType']).str.contains ('WORKTIME')),\n",
    "    (df2['action.actionName'] == '10askinfo') & ((df2['RequestType']).str.contains ('WORKER')),\n",
    "    (df2['action.actionName'] == '10askinfo') & ((df2['RequestType']).str.contains ('VACATIONER')),\n",
    "    (df2['action.actionName'] == '10askinfo') & ((df2['RequestType']).str.contains ('GUIDE')),\n",
    "    (df2['action.actionName'] == '10common_askinfo') & ((df2['RequestType']).str.contains ('WORKLIST')),\n",
    "    (df2['action.actionName'] == '10common_askinfo') & ((df2['RequestType']).str.contains ('MYWORK')),\n",
    "    (df2['action.actionName'] == '10common_askinfo') & ((df2['RequestType']).str.contains ('NOTICE')),\n",
    "    (df2['action.actionName'] == '10common_askinfo') & ((df2['RequestType']).str.contains ('SCHEDULER')),\n",
    "    (df2['action.actionName'] == '10common_askinfo') & ((df2['RequestType']).str.contains ('TROUBLE')),\n",
    "    (df2['action.actionName'] == '10common_askinfo') & ((df2['RequestType']).str.contains ('WORKHISTORY')),\n",
    "    (df2['action.actionName'] == '10common_askinfo') & ((df2['RequestType']).str.contains ('ACCESSHISTORY')),\n",
    "    (df2['action.actionName'] == '10common_askinfo') & ((df2['RequestType']).str.contains ('ALARMHISTORY')),\n",
    "    (df2['action.actionName'] == '10common_askinfo') & ((df2['RequestType']).str.contains ('HISTORYINFO')),\n",
    "    (df2['action.actionName'] == '10common_askinfo') & ((df2['RequestType']).str.contains ('WORKLOG')),\n",
    "    (df2['action.actionName'] == '10common_askinfo') & ((df2['RequestType']).str.contains ('VISITOR')),\n",
    "    (df2['action.actionName'] == '10common_askinfo') & ((df2['RequestType']).str.contains ('ACCESSINFO')),\n",
    "    (df2['action.actionName'] == '10common_askinfo') & ((df2['RequestType']).str.contains ('NEARSTATION')),\n",
    "    (df2['action.actionName'] == '10common_askinfo') & ((df2['RequestType']).str.contains ('NEARWORKLIST')),\n",
    "    (df2['action.actionName'] == '10common_askinfo') & ((df2['RequestType']).str.contains ('NEARRU')),\n",
    "    (df2['action.actionName'] == '10common_askinfo') & ((df2['RequestType']).str.contains ('BID_LOC_COUNTY')& ((df2['RequestType']).str.contains ('REPEATER'))),\n",
    "    (df2['action.actionName'] == '10common_askinfo') & ((df2['RequestType']).str.contains ('BID_LOC_COUNTY')),\n",
    "    (df2['action.actionName'] == '10common_askinfo') & ((df2['RequestType']).str.contains ('BID_LOC_CITY')& ((df2['RequestType']).str.contains ('REPEATER'))),\n",
    "    (df2['action.actionName'] == '10common_askinfo') & ((df2['RequestType']).str.contains ('BID_LOC_CITY')),\n",
    "    (df2['action.actionName'] == '10common_askinfo') & ((df2['RequestType']).str.contains ('WORKTIME')),\n",
    "    (df2['action.actionName'] == '10common_askinfo') & ((df2['RequestType']).str.contains ('WORKER')),\n",
    "    (df2['action.actionName'] == '10common_askinfo') & ((df2['RequestType']).str.contains ('VACATIONER')),\n",
    "    (df2['action.actionName'] == '10common_askinfo') & ((df2['RequestType']).str.contains ('GUIDE'))]\n",
    "choicelist = ['출입문제어', '작업등록', '출입이력 조회', '출입정보 조회', '업무일지 작성', '국소 길안내', '출동국소 변경', '출동/선택', '확인/닫기','국소검색결과 선택', '도움말', \n",
    "              '근무자 조회', '휴가자 조회','오늘의업무 조회', '계획업무 조회', '공지사항 조회', '스케쥴러 조회', 'OOS 조회', '작업이력 조회', '출입이력 조회', '알람이력 조회', \n",
    "              '이력정보 조회', '작업일지 조회', '출입이력 조회', '출입정보 조회', '주변기지국 조회', '주변업무 조회', '주변중계기 조회', '중계기검색', '기지국검색','중계기검색(미지원)', '기지국검색(미지원)', '근무시간 조회', '근무자 조회', '휴가자 조회', '도움말',\n",
    "              '오늘의업무 조회', '계획업무 조회', '공지사항 조회', '스케쥴러 조회', 'OOS 조회', '작업이력 조회', '출입이력 조회', '알람이력 조회', \n",
    "              '이력정보 조회', '작업일지 조회', '출입이력 조회', '출입정보 조회', '주변기지국 조회', '주변업무 조회', '주변중계기 조회', '중계기검색', '기지국검색','중계기검색(미지원)', '기지국검색(미지원)', '근무시간 조회', '근무자 조회', '휴가자 조회', '도움말']\n",
    "df2['Function'] = np.select(conditionlist, choicelist, default='Unknown')\n"
   ]
  },
  {
   "cell_type": "markdown",
   "metadata": {},
   "source": [
    "# 엑셀 저장하기"
   ]
  },
  {
   "cell_type": "code",
   "execution_count": null,
   "metadata": {},
   "outputs": [],
   "source": []
  },
  {
   "cell_type": "code",
   "execution_count": 11,
   "metadata": {},
   "outputs": [],
   "source": [
    "#엑셀로 저장해서 나중에 로데이터 쓸수도 있고, 확인도 하고\n",
    "#df2.to_excel(log_date+\".xlsx\")  \n",
    "\n",
    "#데이터 분석용은 필요한 것만 가져와 processed 파일로 별도 저장\n",
    "\n",
    "df3=df2[['date_time.timestamp','action.actionName','RequestType','RequestValue','Function','event.text','context.session.id','context.supportedInterfaces.Extension.data.DeviceId','context.supportedInterfaces.Extension.data.SceneId','context.supportedInterfaces.Extension.data.UserId']]"
   ]
  },
  {
   "cell_type": "code",
   "execution_count": 12,
   "metadata": {},
   "outputs": [],
   "source": [
    "peoplelist = pd.read_excel('./install_yn/통계 대상구분.xlsx', sheet_name='구성원', encoding = 'euc-kr')\n",
    "event_list = pd.merge(df3,peoplelist, left_on='context.supportedInterfaces.Extension.data.UserId', right_on='사번', how='left')"
   ]
  },
  {
   "cell_type": "code",
   "execution_count": 13,
   "metadata": {},
   "outputs": [
    {
     "data": {
      "text/plain": [
       "array(['10askinfo', '14small_event', '09common_nogo_popupclose',\n",
       "       '05menu_workhistory', '11common_searchresult_number',\n",
       "       '02register_work', '12ask_who', '08go', '06navigation',\n",
       "       '01open_door', '10common_askinfo',\n",
       "       '15register_work_confirmneeded_confirm'], dtype=object)"
      ]
     },
     "execution_count": 13,
     "metadata": {},
     "output_type": "execute_result"
    }
   ],
   "source": [
    "event_list['action.actionName'].unique()"
   ]
  },
  {
   "cell_type": "code",
   "execution_count": 14,
   "metadata": {},
   "outputs": [],
   "source": [
    "event_list_v1 = event_list[event_list['action.actionName'] == '14small_event']"
   ]
  },
  {
   "cell_type": "code",
   "execution_count": 15,
   "metadata": {},
   "outputs": [],
   "source": [
    "# df_deduplication = df2.drop_duplicates(['주차','본부','사번'], keep='first')\n",
    "\n",
    "event_list_fin = event_list_v1.drop_duplicates(['사번'], keep ='first')"
   ]
  },
  {
   "cell_type": "code",
   "execution_count": 16,
   "metadata": {},
   "outputs": [
    {
     "name": "stderr",
     "output_type": "stream",
     "text": [
      "<ipython-input-16-040c6e44297e>:1: SettingWithCopyWarning: \n",
      "A value is trying to be set on a copy of a slice from a DataFrame.\n",
      "Try using .loc[row_indexer,col_indexer] = value instead\n",
      "\n",
      "See the caveats in the documentation: https://pandas.pydata.org/pandas-docs/stable/user_guide/indexing.html#returning-a-view-versus-a-copy\n",
      "  event_list_fin['대상구성원'] = event_list_fin['본부']+'-'+event_list_fin['팀']+'-'+event_list_fin['이름']\n"
     ]
    }
   ],
   "source": [
    "event_list_fin['대상구성원'] = event_list_fin['본부']+'-'+event_list_fin['팀']+'-'+event_list_fin['이름']"
   ]
  },
  {
   "cell_type": "code",
   "execution_count": 17,
   "metadata": {},
   "outputs": [],
   "source": [
    "event_list_fin.to_excel(\"./log_data/자동응모/\"+log_date+\"_processed_자동응모.xlsx\")  "
   ]
  },
  {
   "cell_type": "code",
   "execution_count": null,
   "metadata": {},
   "outputs": [],
   "source": []
  },
  {
   "cell_type": "code",
   "execution_count": null,
   "metadata": {},
   "outputs": [],
   "source": []
  }
 ],
 "metadata": {
  "kernelspec": {
   "display_name": "Python 3",
   "language": "python",
   "name": "python3"
  },
  "language_info": {
   "codemirror_mode": {
    "name": "ipython",
    "version": 3
   },
   "file_extension": ".py",
   "mimetype": "text/x-python",
   "name": "python",
   "nbconvert_exporter": "python",
   "pygments_lexer": "ipython3",
   "version": "3.8.3"
  }
 },
 "nbformat": 4,
 "nbformat_minor": 4
}
